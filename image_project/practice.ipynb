{
 "cells": [
  {
   "cell_type": "code",
   "execution_count": 10,
   "id": "2c15532f",
   "metadata": {},
   "outputs": [
    {
     "name": "stdout",
     "output_type": "stream",
     "text": [
      "[('사과', 'apple'), ('바나나', 'banana'), ('오렌지', 'orange')]\n",
      "[('사과', '바나나', '오렌지'), ('apple', 'banana', 'orange')]\n",
      "('사과', '바나나', '오렌지')\n",
      "('apple', 'banana', 'orange')\n"
     ]
    }
   ],
   "source": [
    "kor = [\"사과\",\"바나나\",\"오렌지\"]\n",
    "eng = [\"apple\",\"banana\",\"orange\"]\n",
    "print(list(zip(kor,eng)))\n",
    "\n",
    "mixed = [('사과', 'apple'), ('바나나', 'banana'), ('오렌지', 'orange')]\n",
    "print(list(zip(*mixed)))\n",
    "\n",
    "kor2, eng2 = zip(*mixed)\n",
    "print(kor2)\n",
    "print(eng2)"
   ]
  },
  {
   "cell_type": "code",
   "execution_count": null,
   "id": "3f4dc918",
   "metadata": {},
   "outputs": [],
   "source": []
  }
 ],
 "metadata": {
  "kernelspec": {
   "display_name": "base",
   "language": "python",
   "name": "python3"
  },
  "language_info": {
   "codemirror_mode": {
    "name": "ipython",
    "version": 3
   },
   "file_extension": ".py",
   "mimetype": "text/x-python",
   "name": "python",
   "nbconvert_exporter": "python",
   "pygments_lexer": "ipython3",
   "version": "3.11.7"
  }
 },
 "nbformat": 4,
 "nbformat_minor": 5
}
